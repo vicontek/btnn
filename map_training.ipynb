{
 "cells": [
  {
   "cell_type": "code",
   "execution_count": 1,
   "metadata": {},
   "outputs": [],
   "source": [
    "import torch\n",
    "import torch.nn as nn\n",
    "from torch.distributions import Normal, Gamma\n",
    "\n",
    "from torchvision.datasets.mnist import MNIST\n",
    "from torch.utils.data import DataLoader, random_split\n",
    "import torchvision.transforms as transforms\n",
    "\n",
    "from tqdm import tqdm_notebook as tqdm"
   ]
  },
  {
   "cell_type": "code",
   "execution_count": 2,
   "metadata": {},
   "outputs": [],
   "source": [
    "def log_prior(model, lambdas=None, a_l=1, b_l=5):\n",
    "    log_prior_sum = 0\n",
    "    for name, core_tensor in model.named_parameters():\n",
    "        if 'tt' not in name:\n",
    "            continue\n",
    "            \n",
    "        core_mean = torch.zeros_like(core_tensor)\n",
    "        \n",
    "        if lambdas is None:\n",
    "            core_std = torch.ones_like(core_tensor)\n",
    "        else:\n",
    "            layer_idx = int(name.split('tt')[-1].split('.')[0])\n",
    "            core_idx = int(name.split('cores.')[-1])\n",
    "            \n",
    "            prev_rank = core_tensor.shape[1]\n",
    "            next_rank = core_tensor.shape[2]\n",
    "        \n",
    "            if prev_rank == 1:\n",
    "                l_next = lambdas[layer_idx][core_idx]\n",
    "                l_prev = l_next\n",
    "            elif next_rank  == 1:\n",
    "                l_prev = lambdas[layer_idx][core_idx - 1]\n",
    "                l_next = l_prev\n",
    "            else:\n",
    "                l_prev = lambdas[layer_idx][core_idx - 1]\n",
    "                l_next = lambdas[layer_idx][core_idx]\n",
    "            \n",
    "            core_std = torch.einsum('p,q->pq', l_prev, l_next)\n",
    "            core_std = core_std.repeat(core_tensor.shape[0], core_tensor.shape[3], 1, 1).permute(0, 2, 3, 1)\n",
    "            \n",
    "        log_prior_sum += Normal(core_mean, core_std).log_prob(core_tensor).sum()\n",
    "    \n",
    "    if lambdas is not None:\n",
    "        for l in lambdas:\n",
    "            log_prior_sum += Gamma(a_l, b_l).log_prob(l).sum()\n",
    "        \n",
    "    return log_prior_sum\n",
    "        \n",
    "\n",
    "\n",
    "def log_posterior(model, out, gt, lambdas=None, likelihood_coef=1.):\n",
    "    \"\"\"Calculate log-posterior for core tensors and lambdas (optional)\n",
    "\n",
    "    Parameters:   \n",
    "        model : TT-model with core tensors as parameters, \n",
    "        out : Model output\n",
    "        gt : Ground truth\n",
    "        lambdas : LR-parameters \\lambda, if any\n",
    "        likelihood_coef : Coefficient to multiply log-likelihood by (for batches)\n",
    "    \n",
    "    Returns:\n",
    "        Log-posterior \n",
    "    \"\"\"\n",
    "    \n",
    "    log_g = torch.log(out)\n",
    "    log_likelihood = (gt * log_g).sum()\n",
    "    \n",
    "    log_prior_sum = log_prior(model, lambdas, 1, 5)\n",
    "    \n",
    "    # not including margnial log-likelihood log(p(D))\n",
    "    return likelihood_coef * log_likelihood + log_prior_sum"
   ]
  },
  {
   "cell_type": "code",
   "execution_count": 3,
   "metadata": {},
   "outputs": [],
   "source": [
    "from tt_model import TTModel\n",
    "\n",
    "config = {\n",
    "    'resize_shape': (32, 32),\n",
    "    \n",
    "    'in_factors': (4, 4, 4, 4, 4),\n",
    "    'l1_ranks': (8, 8, 8, 8),\n",
    "    'hidd_out_factors': (2, 2, 2, 2, 2),\n",
    "    'ein_string1': \"nabcde,aoiv,bijw,cjkx,dkly,elpz\",\n",
    "    \n",
    "    'hidd_in_factors': (4, 8),\n",
    "    'l2_ranks': (8,),\n",
    "    'out_factors': (5, 2),\n",
    "    'ein_string2': 'nab,aoix,bipy',\n",
    "}\n",
    "\n",
    "class AttrDict(dict):\n",
    "    def __init__(self, *args, **kwargs):\n",
    "        super(AttrDict, self).__init__(*args, **kwargs)\n",
    "        self.__dict__ = self\n",
    "        \n",
    "cfg = AttrDict(config)\n",
    "\n",
    "model = TTModel(cfg)"
   ]
  },
  {
   "cell_type": "code",
   "execution_count": 4,
   "metadata": {},
   "outputs": [],
   "source": [
    "NUM_LABELS = 10\n",
    "MNIST_TRANSFORM = transforms.Compose((\n",
    "    transforms.Pad(2),\n",
    "    transforms.ToTensor(),\n",
    "    transforms.Normalize((0.1,), (0.2752,))\n",
    "))\n",
    "\n",
    "device = torch.device('cpu')\n",
    "\n",
    "train_size = 40000\n",
    "batch_size = 10\n",
    "dataset = MNIST('mnist', train=True, download=True, transform=MNIST_TRANSFORM)"
   ]
  },
  {
   "cell_type": "code",
   "execution_count": null,
   "metadata": {},
   "outputs": [],
   "source": [
    "train_dataset, val_dataset = random_split(dataset, (train_size, len(dataset) - train_size))\n",
    "\n",
    "train_loader = DataLoader(train_dataset, batch_size=batch_size, shuffle=True, pin_memory=(device.type == \"cuda\"))\n",
    "val_loader = DataLoader(val_dataset, batch_size=batch_size, shuffle=True, pin_memory=(device.type == \"cuda\"))\n",
    "\n",
    "model = model.to(device)\n",
    "\n",
    "#optimizer = torch.optim.SGD(model.parameters(), lr=learning_rate, momentum=0.95, weight_decay=0.0005)"
   ]
  },
  {
   "cell_type": "code",
   "execution_count": null,
   "metadata": {},
   "outputs": [
    {
     "data": {
      "application/vnd.jupyter.widget-view+json": {
       "model_id": "51880c5cf89b46c5a149194fcb83e65d",
       "version_major": 2,
       "version_minor": 0
      },
      "text/plain": [
       "HBox(children=(IntProgress(value=0, max=4000), HTML(value='')))"
      ]
     },
     "metadata": {},
     "output_type": "display_data"
    }
   ],
   "source": [
    "def acc(model, loader):\n",
    "    accs = []\n",
    "    with torch.no_grad():\n",
    "        for b, gt in tqdm(loader):\n",
    "            out = model(b.to(device)).argmax(1).cpu().numpy()\n",
    "            gt = gt.numpy()\n",
    "            accs.append(sum(out == gt) / len(out))\n",
    "    return sum(accs) / len(accs) \n",
    "\n",
    "learning_rate = 1e-3\n",
    "n_epochs = 100\n",
    "\n",
    "optimizer = torch.optim.Adam(model.parameters(), lr=learning_rate)\n",
    "for ep in range(n_epochs):\n",
    "    for b, gt in tqdm(train_loader):\n",
    "        \n",
    "        optimizer.zero_grad()\n",
    "    \n",
    "        out = model(b.to(device))\n",
    "        \n",
    "        likelihood_coef = len(train_dataset) / b.shape[0]\n",
    "        loss = -log_posterior(model, out, gt.to(device), likelihood_coef=likelihood_coef)\n",
    "        \n",
    "        loss.backward()\n",
    "        optimizer.step()\n",
    "    \n",
    "    print(loss.item())\n",
    "    #print(acc(model, val_loader))\n",
    "    "
   ]
  }
 ],
 "metadata": {
  "kernelspec": {
   "display_name": "Python 3",
   "language": "python",
   "name": "python3"
  },
  "language_info": {
   "codemirror_mode": {
    "name": "ipython",
    "version": 3
   },
   "file_extension": ".py",
   "mimetype": "text/x-python",
   "name": "python",
   "nbconvert_exporter": "python",
   "pygments_lexer": "ipython3",
   "version": "3.6.4"
  }
 },
 "nbformat": 4,
 "nbformat_minor": 2
}
