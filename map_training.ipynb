{
 "cells": [
  {
   "cell_type": "code",
   "execution_count": 1,
   "metadata": {},
   "outputs": [],
   "source": [
    "import numpy as np\n",
    "\n",
    "import torch\n",
    "import torch.nn as nn\n",
    "from torch.distributions import Normal, Gamma, MultivariateNormal\n",
    "\n",
    "from torchvision.datasets.mnist import MNIST\n",
    "from torch.utils.data import DataLoader, random_split\n",
    "import torchvision.transforms as transforms\n",
    "\n",
    "from tqdm import tqdm_notebook as tqdm"
   ]
  },
  {
   "cell_type": "code",
   "execution_count": 2,
   "metadata": {},
   "outputs": [],
   "source": [
    "from tt_model import TTModel\n",
    "from tt_model import vectorize_params, unvectorize_params\n",
    "from tt_model import calc_ranks_from_particles, get_lambdas_vec\n",
    "\n",
    "config = {\n",
    "    'resize_shape': (32, 32),\n",
    "    \n",
    "    'in_factors': (4, 4, 4, 4, 4),\n",
    "    'l1_ranks': (8, 8, 8, 8),\n",
    "    'hidd_out_factors': (2, 2, 2, 2, 2),\n",
    "    'ein_string1': \"nabcde,aoiv,bijw,cjkx,dkly,elpz\",\n",
    "    \n",
    "    'hidd_in_factors': (4, 8),\n",
    "    'l2_ranks': (16,),\n",
    "    'out_factors': (5, 2),\n",
    "    'ein_string2': 'nab,aoix,bipy',\n",
    "}\n",
    "\n",
    "class AttrDict(dict):\n",
    "    def __init__(self, *args, **kwargs):\n",
    "        super(AttrDict, self).__init__(*args, **kwargs)\n",
    "        self.__dict__ = self\n",
    "        \n",
    "cfg = AttrDict(config)\n",
    "\n",
    "model = TTModel(cfg)"
   ]
  },
  {
   "cell_type": "code",
   "execution_count": 3,
   "metadata": {},
   "outputs": [],
   "source": [
    "NUM_LABELS = 10\n",
    "MNIST_TRANSFORM = transforms.Compose((\n",
    "    transforms.Pad(2),\n",
    "    transforms.ToTensor(),\n",
    "    transforms.Normalize((0.1,), (0.2752,))\n",
    "))\n",
    "\n",
    "device = torch.device('cpu')\n",
    "\n",
    "train_size = 40000\n",
    "batch_size = 100\n",
    "dataset = MNIST('mnist', train=True, download=True, transform=MNIST_TRANSFORM)"
   ]
  },
  {
   "cell_type": "code",
   "execution_count": 4,
   "metadata": {},
   "outputs": [],
   "source": [
    "train_dataset, val_dataset = random_split(dataset, (train_size, len(dataset) - train_size))\n",
    "\n",
    "train_loader = DataLoader(train_dataset, batch_size=batch_size, shuffle=True, pin_memory=(device.type == \"cuda\"))\n",
    "val_loader = DataLoader(val_dataset, batch_size=batch_size, shuffle=True, pin_memory=(device.type == \"cuda\"))\n",
    "\n",
    "model = model.to(device)\n",
    "\n",
    "#optimizer = torch.optim.SGD(model.parameters(), lr=learning_rate, momentum=0.95, weight_decay=0.0005)"
   ]
  },
  {
   "cell_type": "code",
   "execution_count": 5,
   "metadata": {},
   "outputs": [],
   "source": [
    "def log_prior(model, lambdas=None, a_l=1, b_l=5):\n",
    "    log_prior_sum = 0\n",
    "    for name, core_tensor in model.named_parameters():\n",
    "        if 'tt' not in name:\n",
    "            continue\n",
    "            \n",
    "        core_mean = torch.zeros_like(core_tensor)\n",
    "        \n",
    "        if lambdas is None:\n",
    "            core_std = torch.ones_like(core_tensor)\n",
    "        else:\n",
    "            layer_idx = int(name.split('tt')[-1].split('.')[0])\n",
    "            core_idx = int(name.split('cores.')[-1])\n",
    "            \n",
    "            prev_rank = core_tensor.shape[1]\n",
    "            next_rank = core_tensor.shape[2]\n",
    "        \n",
    "            if prev_rank == 1:\n",
    "                l_next = lambdas[layer_idx][core_idx]\n",
    "                l_prev = l_next\n",
    "            elif next_rank  == 1:\n",
    "                l_prev = lambdas[layer_idx][core_idx - 1]\n",
    "                l_next = l_prev\n",
    "            else:\n",
    "                l_prev = lambdas[layer_idx][core_idx - 1]\n",
    "                l_next = lambdas[layer_idx][core_idx]\n",
    "            \n",
    "            core_std = torch.einsum('p,q->pq', l_prev, l_next)\n",
    "            core_std = core_std.repeat(core_tensor.shape[0], core_tensor.shape[3], 1, 1).permute(0, 2, 3, 1)\n",
    "            \n",
    "        log_prior_sum += Normal(core_mean, core_std).log_prob(core_tensor).sum()\n",
    "    \n",
    "    if lambdas is not None:\n",
    "        for layer_lambdas in lambdas:\n",
    "            for l in layer_lambdas:\n",
    "                log_prior_sum += Gamma(a_l, b_l).log_prob(l).sum()\n",
    "        \n",
    "    return log_prior_sum\n",
    "        \n",
    "\n",
    "\n",
    "def log_posterior(model, input, gt, lambdas=None, likelihood_coef=1.):\n",
    "    \"\"\"Calculate log-posterior for core tensors and lambdas (optional)\n",
    "\n",
    "    Parameters:   \n",
    "        model : TT-model with core tensors as parameters, \n",
    "        input : Model input\n",
    "        gt : Ground truth\n",
    "        lambdas : LR-parameters \\lambda, if any\n",
    "        likelihood_coef : Coefficient to multiply log-likelihood by (for batches)\n",
    "    \n",
    "    Returns:\n",
    "        Log-posterior \n",
    "    \"\"\"\n",
    "    \n",
    "    log_g = torch.nn.functional.log_softmax(model(input), dim=1)\n",
    "    log_likelihood = (gt * log_g).sum()\n",
    "    \n",
    "    #print(out, log_g)\n",
    "    \n",
    "    log_prior_sum = log_prior(model, lambdas, 1, 5)\n",
    "    \n",
    "    # not including margnial log-likelihood log(p(D))\n",
    "    return likelihood_coef * log_likelihood + log_prior_sum"
   ]
  },
  {
   "cell_type": "code",
   "execution_count": 6,
   "metadata": {},
   "outputs": [
    {
     "data": {
      "application/vnd.jupyter.widget-view+json": {
       "model_id": "61a6f5ca944a416491ccfef8f74e2861",
       "version_major": 2,
       "version_minor": 0
      },
      "text/plain": [
       "HBox(children=(IntProgress(value=0), HTML(value='')))"
      ]
     },
     "metadata": {},
     "output_type": "display_data"
    },
    {
     "name": "stdout",
     "output_type": "stream",
     "text": [
      "\n",
      "Sampling...\n"
     ]
    },
    {
     "name": "stderr",
     "output_type": "stream",
     "text": [
      "/home/maria/Skoltech/bmml/project/lrbtnn/tt_model.py:92: FutureWarning: arrays to stack must be passed as a \"sequence\" type such as list or tuple. Support for non-sequence iterables such as generators is deprecated as of NumPy 1.16 and will raise an error in the future.\n",
      "  for lambda_ in lambdas\n"
     ]
    },
    {
     "name": "stdout",
     "output_type": "stream",
     "text": [
      "Estimating bandwith...\n",
      "Fitting MeanShift...\n"
     ]
    },
    {
     "ename": "ValueError",
     "evalue": "No point was within bandwidth=0.844527 of any seed. Try a different seeding strategy                          or increase the bandwidth.",
     "output_type": "error",
     "traceback": [
      "\u001b[0;31m---------------------------------------------------------------------------\u001b[0m",
      "\u001b[0;31mValueError\u001b[0m                                Traceback (most recent call last)",
      "\u001b[0;32m<ipython-input-6-5808e9f3d23b>\u001b[0m in \u001b[0;36m<module>\u001b[0;34m\u001b[0m\n\u001b[1;32m     77\u001b[0m     \u001b[0;32mreturn\u001b[0m \u001b[0mranks\u001b[0m\u001b[0;34m,\u001b[0m \u001b[0msvgd_particles\u001b[0m\u001b[0;34m\u001b[0m\u001b[0m\n\u001b[1;32m     78\u001b[0m \u001b[0;34m\u001b[0m\u001b[0m\n\u001b[0;32m---> 79\u001b[0;31m \u001b[0mranks\u001b[0m\u001b[0;34m,\u001b[0m \u001b[0msvgd_particles\u001b[0m \u001b[0;34m=\u001b[0m \u001b[0mget_svgd_ranks\u001b[0m\u001b[0;34m(\u001b[0m\u001b[0;36m10\u001b[0m\u001b[0;34m,\u001b[0m \u001b[0mkernel_sigma_squared\u001b[0m\u001b[0;34m=\u001b[0m\u001b[0;36m1e-4\u001b[0m\u001b[0;34m)\u001b[0m\u001b[0;34m\u001b[0m\u001b[0m\n\u001b[0m",
      "\u001b[0;32m<ipython-input-6-5808e9f3d23b>\u001b[0m in \u001b[0;36mget_svgd_ranks\u001b[0;34m(n_particles, n_steps, rank_as_mean, a_l, b_l, kernel_sigma_squared)\u001b[0m\n\u001b[1;32m     72\u001b[0m         ranks = calc_ranks_from_particles(cfg, svgd_particles, \n\u001b[1;32m     73\u001b[0m                                           \u001b[0mkernel_sigma_squared\u001b[0m\u001b[0;34m=\u001b[0m\u001b[0mkernel_sigma_squared\u001b[0m\u001b[0;34m,\u001b[0m\u001b[0;34m\u001b[0m\u001b[0m\n\u001b[0;32m---> 74\u001b[0;31m                                           how='mode')\n\u001b[0m\u001b[1;32m     75\u001b[0m \u001b[0;34m\u001b[0m\u001b[0m\n\u001b[1;32m     76\u001b[0m \u001b[0;34m\u001b[0m\u001b[0m\n",
      "\u001b[0;32m~/Skoltech/bmml/project/lrbtnn/tt_model.py\u001b[0m in \u001b[0;36mcalc_ranks_from_particles\u001b[0;34m(cfg, particles, kernel_sigma_squared, how, threshold)\u001b[0m\n\u001b[1;32m     93\u001b[0m     )).T\n\u001b[1;32m     94\u001b[0m     lambda_mode = find_max_mode(\n\u001b[0;32m---> 95\u001b[0;31m         \u001b[0mlambdas_vecs\u001b[0m\u001b[0;34m,\u001b[0m \u001b[0mkernel_sigma_squared\u001b[0m\u001b[0;34m,\u001b[0m \u001b[0msample_size\u001b[0m\u001b[0;34m=\u001b[0m\u001b[0;36m10000\u001b[0m\u001b[0;34m,\u001b[0m \u001b[0mverbose\u001b[0m\u001b[0;34m=\u001b[0m\u001b[0;32mTrue\u001b[0m\u001b[0;34m\u001b[0m\u001b[0m\n\u001b[0m\u001b[1;32m     96\u001b[0m     )\n\u001b[1;32m     97\u001b[0m     \u001b[0mcur\u001b[0m \u001b[0;34m=\u001b[0m \u001b[0;36m0\u001b[0m\u001b[0;34m\u001b[0m\u001b[0m\n",
      "\u001b[0;32m~/Skoltech/bmml/project/lrbtnn/find_mode.py\u001b[0m in \u001b[0;36mfind_max_mode\u001b[0;34m(means, cov, sample_size, quantile, verbose)\u001b[0m\n\u001b[1;32m     14\u001b[0m         \u001b[0mprint\u001b[0m\u001b[0;34m(\u001b[0m\u001b[0;34m'Fitting MeanShift...'\u001b[0m\u001b[0;34m)\u001b[0m\u001b[0;34m\u001b[0m\u001b[0m\n\u001b[1;32m     15\u001b[0m     \u001b[0mms\u001b[0m \u001b[0;34m=\u001b[0m \u001b[0mMeanShift\u001b[0m\u001b[0;34m(\u001b[0m\u001b[0mbandwidth\u001b[0m\u001b[0;34m=\u001b[0m\u001b[0mbandwidth\u001b[0m\u001b[0;34m,\u001b[0m \u001b[0mbin_seeding\u001b[0m\u001b[0;34m=\u001b[0m\u001b[0;32mTrue\u001b[0m\u001b[0;34m,\u001b[0m \u001b[0mn_jobs\u001b[0m\u001b[0;34m=\u001b[0m\u001b[0;34m-\u001b[0m\u001b[0;36m1\u001b[0m\u001b[0;34m)\u001b[0m\u001b[0;34m\u001b[0m\u001b[0m\n\u001b[0;32m---> 16\u001b[0;31m     \u001b[0mms\u001b[0m\u001b[0;34m.\u001b[0m\u001b[0mfit\u001b[0m\u001b[0;34m(\u001b[0m\u001b[0msample\u001b[0m\u001b[0;34m)\u001b[0m\u001b[0;34m\u001b[0m\u001b[0m\n\u001b[0m\u001b[1;32m     17\u001b[0m     \u001b[0mcluster_centers\u001b[0m \u001b[0;34m=\u001b[0m \u001b[0mms\u001b[0m\u001b[0;34m.\u001b[0m\u001b[0mcluster_centers_\u001b[0m\u001b[0;34m\u001b[0m\u001b[0m\n\u001b[1;32m     18\u001b[0m     \u001b[0;32mif\u001b[0m \u001b[0mverbose\u001b[0m\u001b[0;34m:\u001b[0m\u001b[0;34m\u001b[0m\u001b[0m\n",
      "\u001b[0;32m/usr/local/lib/python3.6/site-packages/sklearn/cluster/mean_shift_.py\u001b[0m in \u001b[0;36mfit\u001b[0;34m(self, X, y)\u001b[0m\n\u001b[1;32m    419\u001b[0m                        \u001b[0mmin_bin_freq\u001b[0m\u001b[0;34m=\u001b[0m\u001b[0mself\u001b[0m\u001b[0;34m.\u001b[0m\u001b[0mmin_bin_freq\u001b[0m\u001b[0;34m,\u001b[0m\u001b[0;34m\u001b[0m\u001b[0m\n\u001b[1;32m    420\u001b[0m                        \u001b[0mbin_seeding\u001b[0m\u001b[0;34m=\u001b[0m\u001b[0mself\u001b[0m\u001b[0;34m.\u001b[0m\u001b[0mbin_seeding\u001b[0m\u001b[0;34m,\u001b[0m\u001b[0;34m\u001b[0m\u001b[0m\n\u001b[0;32m--> 421\u001b[0;31m                        cluster_all=self.cluster_all, n_jobs=self.n_jobs)\n\u001b[0m\u001b[1;32m    422\u001b[0m         \u001b[0;32mreturn\u001b[0m \u001b[0mself\u001b[0m\u001b[0;34m\u001b[0m\u001b[0m\n\u001b[1;32m    423\u001b[0m \u001b[0;34m\u001b[0m\u001b[0m\n",
      "\u001b[0;32m/usr/local/lib/python3.6/site-packages/sklearn/cluster/mean_shift_.py\u001b[0m in \u001b[0;36mmean_shift\u001b[0;34m(X, bandwidth, seeds, bin_seeding, min_bin_freq, cluster_all, max_iter, n_jobs)\u001b[0m\n\u001b[1;32m    210\u001b[0m                          \u001b[0;31m\"\u001b[0m \u001b[0mTry\u001b[0m \u001b[0ma\u001b[0m \u001b[0mdifferent\u001b[0m \u001b[0mseeding\u001b[0m \u001b[0mstrategy\u001b[0m\u001b[0;31m \u001b[0m\u001b[0;31m\\\u001b[0m\u001b[0;34m\u001b[0m\u001b[0m\n\u001b[1;32m    211\u001b[0m                          \u001b[0;32mor\u001b[0m \u001b[0mincrease\u001b[0m \u001b[0mthe\u001b[0m \u001b[0mbandwidth\u001b[0m\u001b[0;34m.\u001b[0m\u001b[0;31m\"\u001b[0m\u001b[0;34m\u001b[0m\u001b[0m\n\u001b[0;32m--> 212\u001b[0;31m                          % bandwidth)\n\u001b[0m\u001b[1;32m    213\u001b[0m \u001b[0;34m\u001b[0m\u001b[0m\n\u001b[1;32m    214\u001b[0m     \u001b[0;31m# POST PROCESSING: remove near duplicate points\u001b[0m\u001b[0;34m\u001b[0m\u001b[0;34m\u001b[0m\u001b[0m\n",
      "\u001b[0;31mValueError\u001b[0m: No point was within bandwidth=0.844527 of any seed. Try a different seeding strategy                          or increase the bandwidth."
     ]
    }
   ],
   "source": [
    "def svgd(particles, dataloader=train_loader, kernel_sigma_squared=1., eps=1e-4, n_steps=100):\n",
    "    \n",
    "    # to get RBF exactly, not just probability\n",
    "    kernel_const = particles[0].shape[0] / 2 * (np.log(np.pi) + np.log(kernel_sigma_squared))\n",
    "    \n",
    "    for step in tqdm(range(n_steps)):\n",
    "        log_posterior_grads = []\n",
    "        kernels = []\n",
    "        phi = []\n",
    "\n",
    "        for theta, (b, gt) in zip(particles, dataloader):\n",
    "            model, lambdas = unvectorize_params(theta, cfg)\n",
    "\n",
    "            onehot_gt = torch.zeros(gt.shape[0], NUM_LABELS).scatter_(1, gt.view(-1, 1), 1)\n",
    "            log_posterior_i = log_posterior(model, b, onehot_gt, lambdas)\n",
    "            log_posterior_i.backward()\n",
    "            log_posterior_grad = theta.grad\n",
    "\n",
    "            log_posterior_grads.append(log_posterior_grad)\n",
    "            theta.grad.data.zero_()\n",
    "\n",
    "            kernels.append(MultivariateNormal(theta, kernel_sigma_squared * torch.eye(theta.shape[0])))\n",
    "\n",
    "        for k, theta_k in enumerate(particles):\n",
    "            phi_k = 0\n",
    "            for i, theta_i in enumerate(particles):\n",
    "                #theta_i.grad.data.zero_()\n",
    "\n",
    "                kernel_ik = torch.exp(kernels[k].log_prob(theta_i) + kernel_const)\n",
    "                kernel_ik.backward()\n",
    "                kernel_ik_grad = theta_i.grad\n",
    "                theta_i.grad.data.zero_()\n",
    "\n",
    "                phi_k += kernel_ik * log_posterior_grads[i] + kernel_ik_grad\n",
    "            phi_k /= len(particles)\n",
    "            phi.append(phi_k)\n",
    "            \n",
    "\n",
    "        for k, phi_k in enumerate(phi):\n",
    "            particles[k].data.add_(eps * phi_k)\n",
    "\n",
    "    return particles\n",
    "\n",
    "def get_svgd_ranks(n_particles=10, n_steps=100, rank_as_mean=False, a_l=1, b_l=5, kernel_sigma_squared=1.):\n",
    "    # sample particles:\n",
    "    # * initialize empty model for G's\n",
    "    # * sample lambdas from priors\n",
    "    # * vectorize the particle\n",
    "    particles = []\n",
    "    for n in range(n_particles):\n",
    "        model = TTModel(cfg)\n",
    "        lambdas = []\n",
    "        layer_ranks = [cfg.l1_ranks, cfg.l2_ranks]\n",
    "        for layer in range(2):\n",
    "            lambdas.append([])\n",
    "            for j, rank in enumerate(layer_ranks[layer]):\n",
    "                lambdas[layer].append(Gamma(a_l, b_l).rsample([rank]))\n",
    "        \n",
    "        particle = vectorize_params(model, lambdas).detach()\n",
    "        particle.requires_grad_(True)\n",
    "        particles.append(particle)\n",
    "            \n",
    "    # n_steps times perform svgd_step\n",
    "    svgd_particles = svgd(particles, kernel_sigma_squared=kernel_sigma_squared)\n",
    "    #return svgd_particles\n",
    "\n",
    "    if rank_as_mean:\n",
    "        # calculate mean of posterior lambdas\n",
    "        pass\n",
    "    else:\n",
    "        # calculate mode of posterior lambdas\n",
    "        ranks = calc_ranks_from_particles(cfg, svgd_particles, \n",
    "                                          kernel_sigma_squared=kernel_sigma_squared, \n",
    "                                          how='mode')\n",
    "\n",
    "    \n",
    "    return ranks, svgd_particles\n",
    "    \n",
    "ranks, svgd_particles = get_svgd_ranks(10, kernel_sigma_squared=1e-4)"
   ]
  },
  {
   "cell_type": "code",
   "execution_count": 7,
   "metadata": {},
   "outputs": [
    {
     "data": {
      "text/plain": [
       "1"
      ]
     },
     "execution_count": 7,
     "metadata": {},
     "output_type": "execute_result"
    }
   ],
   "source": []
  },
  {
   "cell_type": "code",
   "execution_count": 68,
   "metadata": {},
   "outputs": [
    {
     "data": {
      "text/plain": [
       "[[8, 8, 8, 8], [16]]"
      ]
     },
     "execution_count": 68,
     "metadata": {},
     "output_type": "execute_result"
    }
   ],
   "source": [
    "ranks"
   ]
  },
  {
   "cell_type": "code",
   "execution_count": 69,
   "metadata": {},
   "outputs": [
    {
     "name": "stdout",
     "output_type": "stream",
     "text": [
      "Shape of t: torch.Size([48])\n",
      "0.0021730740554630756 1.0653682947158813 4\n",
      "Shape of t: torch.Size([48])\n",
      "0.0011107774917036295 0.885877251625061 5\n",
      "Shape of t: torch.Size([48])\n",
      "0.019055401906371117 0.7736793756484985 0\n",
      "Shape of t: torch.Size([48])\n",
      "0.01512107439339161 0.893673300743103 0\n",
      "Shape of t: torch.Size([48])\n",
      "0.0009616737370379269 0.7831858396530151 2\n"
     ]
    }
   ],
   "source": [
    "ls = []\n",
    "for t in svgd_particles:\n",
    "    m, l = unvectorize_params(t, cfg)\n",
    "    l = get_lambdas_vec(l)\n",
    "    ls.append(l)\n",
    "    \n",
    "    print(f'Shape of t: {l.shape}')\n",
    "    print(l.abs().min().item(), l.abs().max().item(), (l.abs() < 1e-2).sum().item())"
   ]
  },
  {
   "cell_type": "code",
   "execution_count": 47,
   "metadata": {},
   "outputs": [],
   "source": [
    "foo = torch.cat(ls).reshape(-1, 48).detach().cpu().numpy()"
   ]
  },
  {
   "cell_type": "code",
   "execution_count": 48,
   "metadata": {},
   "outputs": [],
   "source": [
    "from find_mode import find_max_mode"
   ]
  },
  {
   "cell_type": "code",
   "execution_count": 50,
   "metadata": {},
   "outputs": [
    {
     "data": {
      "text/plain": [
       "array([False, False, False, False, False, False, False, False, False,\n",
       "       False, False, False, False, False, False, False, False, False,\n",
       "       False, False, False, False, False, False, False, False, False,\n",
       "       False, False, False, False, False, False, False, False, False,\n",
       "       False, False, False, False, False, False, False, False, False,\n",
       "       False, False, False])"
      ]
     },
     "execution_count": 50,
     "metadata": {},
     "output_type": "execute_result"
    }
   ],
   "source": [
    "find_max_mode(foo, 0.3) < 1e-2"
   ]
  },
  {
   "cell_type": "code",
   "execution_count": 47,
   "metadata": {},
   "outputs": [
    {
     "name": "stdout",
     "output_type": "stream",
     "text": [
      "True\n",
      "tensor([1., 1., 1.,  ..., 1., 1., 1.])\n"
     ]
    }
   ],
   "source": [
    "lambdas = []\n",
    "layer_ranks = [cfg.l1_ranks, cfg.l2_ranks]\n",
    "for layer in range(2):\n",
    "    lambdas.append([])\n",
    "    for j, rank in enumerate(layer_ranks[layer]):\n",
    "        l = Gamma(1, 5).rsample([rank])\n",
    "        l.requires_grad_(True)\n",
    "        lambdas[layer].append(l)\n",
    "\n",
    "model = TTModel(cfg)\n",
    "theta = vectorize_params(model, lambdas).detach()\n",
    "theta.requires_grad_(True)\n",
    "\n",
    "print(theta.requires_grad)\n",
    "\n",
    "a = theta.sum()\n",
    "a.backward()\n",
    "print(theta.grad)"
   ]
  },
  {
   "cell_type": "code",
   "execution_count": 48,
   "metadata": {},
   "outputs": [
    {
     "data": {
      "text/plain": [
       "torch.Size([2288])"
      ]
     },
     "execution_count": 48,
     "metadata": {},
     "output_type": "execute_result"
    }
   ],
   "source": [
    "theta.shape"
   ]
  },
  {
   "cell_type": "code",
   "execution_count": 25,
   "metadata": {},
   "outputs": [
    {
     "data": {
      "text/plain": [
       "True"
      ]
     },
     "execution_count": 25,
     "metadata": {},
     "output_type": "execute_result"
    }
   ],
   "source": [
    "theta.requires_grad"
   ]
  },
  {
   "cell_type": "code",
   "execution_count": 27,
   "metadata": {},
   "outputs": [
    {
     "ename": "RuntimeError",
     "evalue": "element 0 of tensors does not require grad and does not have a grad_fn",
     "output_type": "error",
     "traceback": [
      "\u001b[0;31m---------------------------------------------------------------------------\u001b[0m",
      "\u001b[0;31mRuntimeError\u001b[0m                              Traceback (most recent call last)",
      "\u001b[0;32m<ipython-input-27-b268c13ba2ab>\u001b[0m in \u001b[0;36m<module>\u001b[0;34m\u001b[0m\n\u001b[1;32m      2\u001b[0m \u001b[0my\u001b[0m \u001b[0;34m=\u001b[0m \u001b[0;36m2\u001b[0m \u001b[0;34m*\u001b[0m \u001b[0mx\u001b[0m\u001b[0;34m\u001b[0m\u001b[0m\n\u001b[1;32m      3\u001b[0m \u001b[0mz\u001b[0m \u001b[0;34m=\u001b[0m \u001b[0;36m3\u001b[0m \u001b[0;34m*\u001b[0m \u001b[0my\u001b[0m\u001b[0;34m\u001b[0m\u001b[0m\n\u001b[0;32m----> 4\u001b[0;31m \u001b[0mz\u001b[0m\u001b[0;34m.\u001b[0m\u001b[0mbackward\u001b[0m\u001b[0;34m(\u001b[0m\u001b[0;34m)\u001b[0m\u001b[0;34m\u001b[0m\u001b[0m\n\u001b[0m",
      "\u001b[0;32m/usr/local/lib/python3.6/site-packages/torch/tensor.py\u001b[0m in \u001b[0;36mbackward\u001b[0;34m(self, gradient, retain_graph, create_graph)\u001b[0m\n\u001b[1;32m    148\u001b[0m                 \u001b[0mproducts\u001b[0m\u001b[0;34m.\u001b[0m \u001b[0mDefaults\u001b[0m \u001b[0mto\u001b[0m\u001b[0;31m \u001b[0m\u001b[0;31m`\u001b[0m\u001b[0;31m`\u001b[0m\u001b[0;32mFalse\u001b[0m\u001b[0;31m`\u001b[0m\u001b[0;31m`\u001b[0m\u001b[0;34m.\u001b[0m\u001b[0;34m\u001b[0m\u001b[0m\n\u001b[1;32m    149\u001b[0m         \"\"\"\n\u001b[0;32m--> 150\u001b[0;31m         \u001b[0mtorch\u001b[0m\u001b[0;34m.\u001b[0m\u001b[0mautograd\u001b[0m\u001b[0;34m.\u001b[0m\u001b[0mbackward\u001b[0m\u001b[0;34m(\u001b[0m\u001b[0mself\u001b[0m\u001b[0;34m,\u001b[0m \u001b[0mgradient\u001b[0m\u001b[0;34m,\u001b[0m \u001b[0mretain_graph\u001b[0m\u001b[0;34m,\u001b[0m \u001b[0mcreate_graph\u001b[0m\u001b[0;34m)\u001b[0m\u001b[0;34m\u001b[0m\u001b[0m\n\u001b[0m\u001b[1;32m    151\u001b[0m \u001b[0;34m\u001b[0m\u001b[0m\n\u001b[1;32m    152\u001b[0m     \u001b[0;32mdef\u001b[0m \u001b[0mregister_hook\u001b[0m\u001b[0;34m(\u001b[0m\u001b[0mself\u001b[0m\u001b[0;34m,\u001b[0m \u001b[0mhook\u001b[0m\u001b[0;34m)\u001b[0m\u001b[0;34m:\u001b[0m\u001b[0;34m\u001b[0m\u001b[0m\n",
      "\u001b[0;32m/usr/local/lib/python3.6/site-packages/torch/autograd/__init__.py\u001b[0m in \u001b[0;36mbackward\u001b[0;34m(tensors, grad_tensors, retain_graph, create_graph, grad_variables)\u001b[0m\n\u001b[1;32m     97\u001b[0m     Variable._execution_engine.run_backward(\n\u001b[1;32m     98\u001b[0m         \u001b[0mtensors\u001b[0m\u001b[0;34m,\u001b[0m \u001b[0mgrad_tensors\u001b[0m\u001b[0;34m,\u001b[0m \u001b[0mretain_graph\u001b[0m\u001b[0;34m,\u001b[0m \u001b[0mcreate_graph\u001b[0m\u001b[0;34m,\u001b[0m\u001b[0;34m\u001b[0m\u001b[0m\n\u001b[0;32m---> 99\u001b[0;31m         allow_unreachable=True)  # allow_unreachable flag\n\u001b[0m\u001b[1;32m    100\u001b[0m \u001b[0;34m\u001b[0m\u001b[0m\n\u001b[1;32m    101\u001b[0m \u001b[0;34m\u001b[0m\u001b[0m\n",
      "\u001b[0;31mRuntimeError\u001b[0m: element 0 of tensors does not require grad and does not have a grad_fn"
     ]
    }
   ],
   "source": [
    "x = torch.ones(3, 4)\n",
    "y = 2 * x\n",
    "z = 3 * y\n",
    "z.backward()"
   ]
  },
  {
   "cell_type": "code",
   "execution_count": 13,
   "metadata": {},
   "outputs": [
    {
     "data": {
      "application/vnd.jupyter.widget-view+json": {
       "model_id": "36cb0ccf0b59430491e84e3ba454ddd7",
       "version_major": 2,
       "version_minor": 0
      },
      "text/plain": [
       "HBox(children=(IntProgress(value=0, max=4000), HTML(value='')))"
      ]
     },
     "metadata": {},
     "output_type": "display_data"
    },
    {
     "name": "stdout",
     "output_type": "stream",
     "text": [
      "None\n",
      "\n"
     ]
    }
   ],
   "source": [
    "def acc(model, loader):\n",
    "    accs = []\n",
    "    with torch.no_grad():\n",
    "        for b, gt in tqdm(loader):\n",
    "            out = model(b.to(device)).argmax(1).cpu().numpy()\n",
    "            gt = gt.numpy()\n",
    "            accs.append(sum(out == gt) / len(out))\n",
    "    return sum(accs) / len(accs) \n",
    "\n",
    "learning_rate = 1e-3\n",
    "n_epochs = 100\n",
    "\n",
    "optimizer = torch.optim.Adam(model.parameters(), lr=learning_rate)\n",
    "for ep in range(n_epochs):\n",
    "    for b, gt in tqdm(train_loader):\n",
    "        \n",
    "        optimizer.zero_grad()\n",
    "    \n",
    "        onehot_gt = torch.zeros(gt.shape[0], NUM_LABELS).scatter_(1, gt.view(-1, 1), 1)\n",
    "\n",
    "        likelihood_coef = len(train_dataset) / batch_size\n",
    "        loss = -log_posterior(model, b.to(device), onehot_gt.to(device), likelihood_coef=likelihood_coef)\n",
    "        \n",
    "        loss.backward()\n",
    "        optimizer.step()\n",
    "    \n",
    "    print(loss.item())\n",
    "    #print(acc(model, val_loader))\n",
    "    "
   ]
  }
 ],
 "metadata": {
  "kernelspec": {
   "display_name": "Python 3",
   "language": "python",
   "name": "python3"
  },
  "language_info": {
   "codemirror_mode": {
    "name": "ipython",
    "version": 3
   },
   "file_extension": ".py",
   "mimetype": "text/x-python",
   "name": "python",
   "nbconvert_exporter": "python",
   "pygments_lexer": "ipython3",
   "version": "3.6.4"
  }
 },
 "nbformat": 4,
 "nbformat_minor": 2
}
